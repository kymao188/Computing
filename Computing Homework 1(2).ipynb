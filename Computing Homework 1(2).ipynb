{
 "cells": [
  {
   "cell_type": "code",
   "execution_count": 7,
   "id": "e16c748c",
   "metadata": {},
   "outputs": [
    {
     "name": "stdout",
     "output_type": "stream",
     "text": [
      "[65, 60, 55, 50, 45, 40, 35, 30]\n"
     ]
    }
   ],
   "source": [
    "nums = range (30, 65, 5)\n",
    "reversed_nums = list(reversed(nums))\n",
    "reversed_nums.insert(0,65)\n",
    "print(reversed_nums)"
   ]
  },
  {
   "cell_type": "code",
   "execution_count": 44,
   "id": "736e0460",
   "metadata": {},
   "outputs": [
    {
     "name": "stdout",
     "output_type": "stream",
     "text": [
      "length: 20\n",
      "maximum: 20\n",
      "minimum: 1\n",
      "sum: 210\n",
      "0\n",
      "1\n",
      "3\n",
      "6\n",
      "10\n",
      "15\n",
      "21\n",
      "28\n",
      "36\n",
      "45\n",
      "55\n",
      "66\n",
      "78\n",
      "91\n",
      "105\n",
      "120\n",
      "136\n",
      "153\n",
      "171\n",
      "190\n",
      "210\n"
     ]
    }
   ],
   "source": [
    "nums = []\n",
    "for i in range(21):\n",
    "    nums.append(i)\n",
    "del nums[0]\n",
    "\n",
    "length = len(nums)\n",
    "maximum = max(nums)\n",
    "minimum = min(nums)\n",
    "sum_of_nums = (0+1+2+3+4+5+6+7+8+9+10+11+12+13+14+15+16+17+18+19+20)\n",
    "\n",
    "print(\"length:\", length)\n",
    "print(\"maximum:\", maximum)\n",
    "print(\"minimum:\", minimum)\n",
    "print(\"sum:\", sum_of_nums)\n",
    "\n",
    "total = 0\n",
    "for number in [0, 1, 2, 3, 4, 5, 6, 7, 8, 9, 10, 11, 12, 13, 14, 15, 16, 17, 18, 19, 20]:\n",
    "    total += number\n",
    "    print(total)"
   ]
  },
  {
   "cell_type": "code",
   "execution_count": 17,
   "id": "2c68acbd",
   "metadata": {
    "scrolled": true
   },
   "outputs": [
    {
     "name": "stdout",
     "output_type": "stream",
     "text": [
      "sunny play\n",
      "rainy watch TV\n",
      "cloudy walk\n"
     ]
    }
   ],
   "source": [
    "weather = {\"sunny\": \"play\", \"rainy\": \"watch TV\", \"cloudy\": \"walk\"}\n",
    "\n",
    "for key, value in weather.items():\n",
    "    print(key, value)\n",
    "    "
   ]
  },
  {
   "cell_type": "code",
   "execution_count": 35,
   "id": "717d57e4",
   "metadata": {
    "scrolled": true
   },
   "outputs": [
    {
     "name": "stdout",
     "output_type": "stream",
     "text": [
      "when sunny let us play\n",
      "when rainy let us watch TV\n",
      "when cloudy let us walk\n",
      " \n",
      "List with new pair:\n",
      "when sunny let us play\n",
      "when rainy let us watch TV\n",
      "when cloudy let us walk\n",
      "when snowy let us ski\n"
     ]
    }
   ],
   "source": [
    "weather = {\"sunny\": \"play\", \"rainy\": \"watch TV\", \"cloudy\": \"walk\"}\n",
    "\n",
    "for key, value in weather.items():\n",
    "    print(f'when {key} let us {value}')\n",
    "    \n",
    "weather.update({\"snowy\": \"ski\"})\n",
    "\n",
    "print(\" \")\n",
    "      \n",
    "print(\"List with new pair:\")\n",
    "\n",
    "for key, value in weather.items():\n",
    "     print(f'when {key} let us {value}')"
   ]
  },
  {
   "cell_type": "code",
   "execution_count": null,
   "id": "7d8c497c",
   "metadata": {},
   "outputs": [],
   "source": []
  }
 ],
 "metadata": {
  "kernelspec": {
   "display_name": "Python 3 (ipykernel)",
   "language": "python",
   "name": "python3"
  },
  "language_info": {
   "codemirror_mode": {
    "name": "ipython",
    "version": 3
   },
   "file_extension": ".py",
   "mimetype": "text/x-python",
   "name": "python",
   "nbconvert_exporter": "python",
   "pygments_lexer": "ipython3",
   "version": "3.9.13"
  }
 },
 "nbformat": 4,
 "nbformat_minor": 5
}
