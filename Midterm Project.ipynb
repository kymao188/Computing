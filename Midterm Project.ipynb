{
 "cells": [
  {
   "cell_type": "code",
   "execution_count": 10,
   "id": "c9d25401",
   "metadata": {
    "scrolled": false
   },
   "outputs": [
    {
     "name": "stdout",
     "output_type": "stream",
     "text": [
      "2,4,6,8,4,5,2,1,9,0,4,6,7,4,3,2,1,9,10,3,7,9,6,0,1,3,5,6,7,8,9,10,2,3,6,8,9,10,6,7,4,3\n",
      "2,1,9,10,3,7,9,6,0,1,3,5,6,7,8,9,10,2,3,6,8,9,10,2,4,6,8,4,5,2,1,9,0,4,6,7,4,3,2,1,9,10,3,7,9,6\n",
      "4,5,2,1,9,0,4,6,7,4,3,2,1,9,10,3,7,9,6,0,1,3,5,6,7,8,9,10,2,3,6,8,9,10,6,7,4,3,6,8,4,5,2\n",
      "10,3,7,9,6,0,1,3,5,6,7,8,9,10,2,3,6,8,9,10,2,4,6,8,4,5,2,1,9,0,4,6,7,4\n",
      "2,4,6,8,4,5,2,1,9,0,4,6,7,4,3,2,1,9,10,3,7,9,6\n"
     ]
    }
   ],
   "source": [
    "f = open(r\"C:\\Users\\Kayla\\Downloads\\numbers.txt\")\n",
    "print(f.read())"
   ]
  },
  {
   "cell_type": "code",
   "execution_count": 26,
   "id": "75de42da",
   "metadata": {
    "scrolled": true
   },
   "outputs": [
    {
     "data": {
      "text/plain": [
       "6     26\n",
       "9     24\n",
       "4     22\n",
       "3     20\n",
       "2     19\n",
       "7     17\n",
       "1     14\n",
       "10    14\n",
       "8     13\n",
       "5     10\n",
       "0      9\n",
       "dtype: int64"
      ]
     },
     "execution_count": 26,
     "metadata": {},
     "output_type": "execute_result"
    }
   ],
   "source": [
    "import pandas as pd\n",
    "\n",
    "mylist = [2,4,6,8,4,5,2,1,9,0,4,6,7,4,3,2,1,9,10,3,7,9,6,0,1,3,5,6,7,8,9,10,2,3,6,8,9,10,6,7,4,3,\n",
    "2,1,9,10,3,7,9,6,0,1,3,5,6,7,8,9,10,2,3,6,8,9,10,2,4,6,8,4,5,2,1,9,0,4,6,7,4,3,2,1,9,10,3,7,9,6,\n",
    "4,5,2,1,9,0,4,6,7,4,3,2,1,9,10,3,7,9,6,0,1,3,5,6,7,8,9,10,2,3,6,8,9,10,6,7,4,3,6,8,4,5,2,\n",
    "10,3,7,9,6,0,1,3,5,6,7,8,9,10,2,3,6,8,9,10,2,4,6,8,4,5,2,1,9,0,4,6,7,4,\n",
    "2,4,6,8,4,5,2,1,9,0,4,6,7,4,3,2,1,9,10,3,7,9,6]\n",
    "\n",
    "pd.Series(mylist).value_counts()\n",
    "\n"
   ]
  },
  {
   "cell_type": "code",
   "execution_count": 22,
   "id": "6a35bfb2",
   "metadata": {
    "scrolled": true
   },
   "outputs": [
    {
     "data": {
      "image/png": "[encoded data removed]",
      "text/plain": [
       "<Figure size 640x480 with 1 Axes>"
      ]
     },
     "metadata": {},
     "output_type": "display_data"
    }
   ],
   "source": [
    "import matplotlib.pyplot as plt\n",
    "import numpy as np\n",
    "\n",
    "x = np.array ([\"6\", \"9\", \"4\", \"3\", \"2\", \"7\", \"1\", \"10\", \"8\", \"5\", \"0\"])\n",
    "y = np.array ([26, 24, 22, 20, 19, 17, 14, 14, 13, 10, 9])\n",
    "\n",
    "plt.bar(x,y)\n",
    "plt.show()"
   ]
  },
  {
   "cell_type": "code",
   "execution_count": 122,
   "id": "30343e7b",
   "metadata": {
    "scrolled": true
   },
   "outputs": [
    {
     "name": "stdout",
     "output_type": "stream",
     "text": [
      "{'Output': ['6 : 26', '9 : 24', '4 : 22', '3 : 20', '2 : 19', '7 : 17', '1 : 14', '10 : 14', '8 : 13', '5 : 10', '0 : 9']}\n"
     ]
    }
   ],
   "source": [
    "import json\n",
    "\n",
    "x = {\n",
    "    \"Output\" : [\n",
    "        \"6 : 26\",\n",
    "        \"9 : 24\",\n",
    "        \"4 : 22\",\n",
    "        \"3 : 20\",\n",
    "        \"2 : 19\",\n",
    "        \"7 : 17\",\n",
    "        \"1 : 14\",\n",
    "        \"10 : 14\",\n",
    "        \"8 : 13\",\n",
    "        \"5 : 10\",\n",
    "        \"0 : 9\" ]\n",
    "}\n",
    "\n",
    "print(x)\n",
    "\n"
   ]
  },
  {
   "cell_type": "code",
   "execution_count": 125,
   "id": "fcd56d3c",
   "metadata": {
    "scrolled": false
   },
   "outputs": [
    {
     "name": "stdout",
     "output_type": "stream",
     "text": [
      "     Output                                        Explanation\n",
      "0    6 : 26  Here 6 occurs 26 times, 9 occurs 24 times and ...\n",
      "1    9 : 24  Here 6 occurs 26 times, 9 occurs 24 times and ...\n",
      "2    4 : 22  Here 6 occurs 26 times, 9 occurs 24 times and ...\n",
      "3    3 : 20  Here 6 occurs 26 times, 9 occurs 24 times and ...\n",
      "4    2 : 19  Here 6 occurs 26 times, 9 occurs 24 times and ...\n",
      "5    7 : 17  Here 6 occurs 26 times, 9 occurs 24 times and ...\n",
      "6    1 : 14  Here 6 occurs 26 times, 9 occurs 24 times and ...\n",
      "7   10 : 14  Here 6 occurs 26 times, 9 occurs 24 times and ...\n",
      "8    8 : 13  Here 6 occurs 26 times, 9 occurs 24 times and ...\n",
      "9    5 : 10  Here 6 occurs 26 times, 9 occurs 24 times and ...\n",
      "10    0 : 9  Here 6 occurs 26 times, 9 occurs 24 times and ...\n"
     ]
    }
   ],
   "source": [
    "df = pd.read_json('x')\n",
    "\n",
    "print(df)"
   ]
  },
  {
   "cell_type": "code",
   "execution_count": null,
   "id": "2015ab3e",
   "metadata": {},
   "outputs": [],
   "source": []
  }
 ],
 "metadata": {
  "kernelspec": {
   "display_name": "Python 3 (ipykernel)",
   "language": "python",
   "name": "python3"
  },
  "language_info": {
   "codemirror_mode": {
    "name": "ipython",
    "version": 3
   },
   "file_extension": ".py",
   "mimetype": "text/x-python",
   "name": "python",
   "nbconvert_exporter": "python",
   "pygments_lexer": "ipython3",
   "version": "3.10.9"
  }
 },
 "nbformat": 4,
 "nbformat_minor": 5
}
