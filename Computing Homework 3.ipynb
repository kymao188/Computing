{
 "cells": [
  {
   "cell_type": "code",
   "execution_count": 13,
   "id": "ab32e21d",
   "metadata": {},
   "outputs": [
    {
     "data": {
      "text/plain": [
       "66"
      ]
     },
     "execution_count": 13,
     "metadata": {},
     "output_type": "execute_result"
    }
   ],
   "source": [
    "#Question 1\n",
    "marks = {'Andy':88, 'Amy':66, 'James': 90, 'Jules': 55, 'Arthur': 77}\n",
    "\n",
    "def get_student_grade(name):\n",
    "    if name in marks:\n",
    "        return marks[name]\n",
    "    else:\n",
    "        print(\"Cannot find this student's name.\")\n",
    "        \n",
    "get_student_grade('Amy')"
   ]
  },
  {
   "cell_type": "code",
   "execution_count": 16,
   "id": "cb285afd",
   "metadata": {},
   "outputs": [
    {
     "data": {
      "text/plain": [
       "75.2"
      ]
     },
     "execution_count": 16,
     "metadata": {},
     "output_type": "execute_result"
    }
   ],
   "source": [
    "def get_average_grade():\n",
    "    num_students = len(marks)\n",
    "    if num_students == 0:\n",
    "        return 0\n",
    "    else:\n",
    "        total_grade = sum(marks.values())\n",
    "        return total_grade / num_students\n",
    "    \n",
    "get_average_grade()"
   ]
  },
  {
   "cell_type": "code",
   "execution_count": 37,
   "id": "7f1f8904",
   "metadata": {},
   "outputs": [
    {
     "name": "stdout",
     "output_type": "stream",
     "text": [
      "0 0\n",
      "1 1\n",
      "2 4\n",
      "3 9\n",
      "4 16\n",
      "5 25\n",
      "6 36\n",
      "7 49\n",
      "greater than 8\n"
     ]
    }
   ],
   "source": [
    "#Question 2\n",
    "def print_square_until(num):\n",
    "    n = 0\n",
    "    while n < num:\n",
    "        print(n, n**2)\n",
    "        n += 1\n",
    "    else:\n",
    "        print(\"greater than\", num)\n",
    "        \n",
    "print_square_until(8)"
   ]
  },
  {
   "cell_type": "code",
   "execution_count": 22,
   "id": "d99c411c",
   "metadata": {},
   "outputs": [
    {
     "name": "stdout",
     "output_type": "stream",
     "text": [
      "78\n"
     ]
    }
   ],
   "source": [
    "#Question 3\n",
    "def sum_of_integers(num):\n",
    "    sum = 0\n",
    "    n = 1\n",
    "    while n <= num:\n",
    "        sum += n\n",
    "        n += 1\n",
    "    print(sum)\n",
    "    \n",
    "sum_of_integers(12)    "
   ]
  },
  {
   "cell_type": "code",
   "execution_count": 24,
   "id": "8cef2941",
   "metadata": {},
   "outputs": [
    {
     "name": "stdout",
     "output_type": "stream",
     "text": [
      "The sum of integers from 1 to 1 is 1\n",
      "The sum of integers from 1 to 2 is 3\n",
      "The sum of integers from 1 to 3 is 6\n",
      "The sum of integers from 1 to 4 is 10\n",
      "The sum of integers from 1 to 5 is 15\n",
      "The sum of integers from 1 to 6 is 21\n",
      "The sum of integers from 1 to 7 is 28\n",
      "The sum of integers from 1 to 8 is 36\n",
      "The sum of integers from 1 to 9 is 45\n",
      "The sum of integers from 1 to 10 is 55\n",
      "The sum of integers from 1 to 11 is 66\n",
      "The sum of integers from 1 to 12 is 78\n"
     ]
    }
   ],
   "source": [
    "#Question 4\n",
    "def sum_of_integers(num):\n",
    "    sum = 0\n",
    "    for n in range(1, num+1):\n",
    "        sum += n\n",
    "        print(f\"The sum of integers from 1 to {n} is {sum}\")\n",
    "        \n",
    "sum_of_integers(12)"
   ]
  },
  {
   "cell_type": "code",
   "execution_count": 27,
   "id": "f708dd04",
   "metadata": {},
   "outputs": [
    {
     "name": "stdout",
     "output_type": "stream",
     "text": [
      "Mean: 50.0\n",
      "Sum: 4950\n",
      "Standard deviation: 28.577380332470412\n"
     ]
    }
   ],
   "source": [
    "#Question 5\n",
    "import numpy as np\n",
    "\n",
    "def stats_of_list(lst):\n",
    "    mean = np.mean(lst)\n",
    "    sum = np.sum(lst)\n",
    "    std_dev = np.std(lst)\n",
    "    print(f\"Mean: {mean}\")\n",
    "    print(f\"Sum: {sum}\")\n",
    "    print(f\"Standard deviation: {std_dev}\")\n",
    "\n",
    "lst = list(range(1, 100))\n",
    "stats_of_list(lst)"
   ]
  },
  {
   "cell_type": "code",
   "execution_count": 41,
   "id": "d1cb4ab5",
   "metadata": {
    "scrolled": true
   },
   "outputs": [
    {
     "name": "stdout",
     "output_type": "stream",
     "text": [
      "2\n"
     ]
    }
   ],
   "source": [
    "#Question 6\n",
    "def minimal(v1, v2, v3, v4):\n",
    "    min_val = v1\n",
    "    if v2 < min_val:\n",
    "        min_val = v2\n",
    "    if v3 < min_val:\n",
    "        min_val = v3\n",
    "    if v4 < min_val:\n",
    "        min_val = v4\n",
    "    return min_val\n",
    "\n",
    "result = minimal(8, 5, 9, 2)\n",
    "print(result)"
   ]
  },
  {
   "cell_type": "code",
   "execution_count": 40,
   "id": "97ea1caf",
   "metadata": {},
   "outputs": [
    {
     "name": "stdout",
     "output_type": "stream",
     "text": [
      "Hello, people! How is your day going today?\n"
     ]
    }
   ],
   "source": [
    "#Question 7 with parameter.\n",
    "def concat_strings(s1, s2, s3):\n",
    "    concatenated = s1 + s2 + s3\n",
    "    return concatenated\n",
    "\n",
    "result = concat_strings(\"Hello, \", \"people! \", \"How is your day going today?\")\n",
    "print(result)\n"
   ]
  },
  {
   "cell_type": "code",
   "execution_count": 39,
   "id": "f884f18e",
   "metadata": {},
   "outputs": [
    {
     "name": "stdout",
     "output_type": "stream",
     "text": [
      "Hello, everyone! How are you today?\n"
     ]
    }
   ],
   "source": [
    "#Question 7 with list.\n",
    "def concat_strings(s1, s2, s3):\n",
    "    concatenated = s1 + s2 + s3\n",
    "    return concatenated\n",
    "\n",
    "my_strings = [\"Hello, \", \"everyone! \", \"How are you today?\"]\n",
    "result = concat_strings(*my_strings)\n",
    "print(result)"
   ]
  }
 ],
 "metadata": {
  "kernelspec": {
   "display_name": "Python 3 (ipykernel)",
   "language": "python",
   "name": "python3"
  },
  "language_info": {
   "codemirror_mode": {
    "name": "ipython",
    "version": 3
   },
   "file_extension": ".py",
   "mimetype": "text/x-python",
   "name": "python",
   "nbconvert_exporter": "python",
   "pygments_lexer": "ipython3",
   "version": "3.9.13"
  }
 },
 "nbformat": 4,
 "nbformat_minor": 5
}
