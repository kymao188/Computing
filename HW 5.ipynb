{
 "cells": [
  {
   "cell_type": "code",
   "execution_count": 3,
   "id": "1cbb3225",
   "metadata": {},
   "outputs": [
    {
     "name": "stdout",
     "output_type": "stream",
     "text": [
      "Hi, my name is Kayla. I'm 18 years old and identify as female.\n",
      "Hi, my name is Fiona. I'm 69 years old and identify as female.\n"
     ]
    }
   ],
   "source": [
    "class Human:\n",
    "    species = 'Homo sapiens'\n",
    "    num_eyes = 2\n",
    "    num_arms = 2\n",
    "    num_legs = 2\n",
    "    language = 'English'\n",
    "\n",
    "    def __init__(self, name, age, gender):\n",
    "        self.name = name\n",
    "        self.age = age\n",
    "        self.gender = gender\n",
    "    \n",
    "    def introduce(self):\n",
    "        print(f\"Hi, my name is {self.name}. I'm {self.age} years old and identify as {self.gender}.\")\n",
    "        \n",
    "A = Human(\"Kayla\", 18, \"female\")\n",
    "B = Human(\"Fiona\", 69, \"female\")\n",
    "\n",
    "A.introduce()\n",
    "B.introduce()"
   ]
  },
  {
   "cell_type": "code",
   "execution_count": 8,
   "id": "f2ac8924",
   "metadata": {},
   "outputs": [
    {
     "name": "stdout",
     "output_type": "stream",
     "text": [
      "6.708203932499369\n"
     ]
    }
   ],
   "source": [
    "import math\n",
    "\n",
    "class Point:\n",
    "    def __init__(self):\n",
    "        self.x = 0\n",
    "        self.y = 0\n",
    "    \n",
    "    def distance(self):\n",
    "        return math.sqrt(self.x ** 2 + self.y ** 2)\n",
    "    \n",
    "p = Point()   \n",
    "p.x = 3\n",
    "p.y = 6\n",
    "\n",
    "print(p.distance())"
   ]
  },
  {
   "cell_type": "code",
   "execution_count": 9,
   "id": "9b828b7a",
   "metadata": {},
   "outputs": [],
   "source": [
    "#Question 3 answer\n",
    "\n",
    "#D"
   ]
  },
  {
   "cell_type": "code",
   "execution_count": 16,
   "id": "9f870723",
   "metadata": {},
   "outputs": [
    {
     "name": "stdout",
     "output_type": "stream",
     "text": [
      "hello world\n"
     ]
    }
   ],
   "source": [
    "def main():\n",
    "    print(\"hello\", end=\" \")\n",
    "    \n",
    "try:\n",
    "    if __name__ == \"__main__\":\n",
    "        main()\n",
    "        \n",
    "except:\n",
    "    print(\"name\")\n",
    "finally: \n",
    "    print(\"world\")"
   ]
  },
  {
   "cell_type": "code",
   "execution_count": 13,
   "id": "8a679fe4",
   "metadata": {},
   "outputs": [],
   "source": [
    "#Question 5\n",
    "\n",
    "#C"
   ]
  },
  {
   "cell_type": "code",
   "execution_count": 14,
   "id": "7b27ceab",
   "metadata": {
    "scrolled": true
   },
   "outputs": [
    {
     "ename": "TypeError",
     "evalue": "Only integers are allowed",
     "output_type": "error",
     "traceback": [
      "\u001b[1;31m---------------------------------------------------------------------------\u001b[0m",
      "\u001b[1;31mTypeError\u001b[0m                                 Traceback (most recent call last)",
      "Cell \u001b[1;32mIn[14], line 3\u001b[0m\n\u001b[0;32m      1\u001b[0m x \u001b[38;5;241m=\u001b[39m \u001b[38;5;124m\"\u001b[39m\u001b[38;5;124mhello\u001b[39m\u001b[38;5;124m\"\u001b[39m\n\u001b[0;32m      2\u001b[0m \u001b[38;5;28;01mif\u001b[39;00m \u001b[38;5;129;01mnot\u001b[39;00m \u001b[38;5;28mtype\u001b[39m(x) \u001b[38;5;129;01mis\u001b[39;00m \u001b[38;5;28mint\u001b[39m:\n\u001b[1;32m----> 3\u001b[0m     \u001b[38;5;28;01mraise\u001b[39;00m \u001b[38;5;167;01mTypeError\u001b[39;00m(\u001b[38;5;124m\"\u001b[39m\u001b[38;5;124mOnly integers are allowed\u001b[39m\u001b[38;5;124m\"\u001b[39m)\n",
      "\u001b[1;31mTypeError\u001b[0m: Only integers are allowed"
     ]
    }
   ],
   "source": [
    "x = \"hello\"\n",
    "if not type(x) is int:\n",
    "    raise TypeError(\"Only integers are allowed\")"
   ]
  },
  {
   "cell_type": "code",
   "execution_count": null,
   "id": "22f92b77",
   "metadata": {},
   "outputs": [],
   "source": []
  }
 ],
 "metadata": {
  "kernelspec": {
   "display_name": "Python 3 (ipykernel)",
   "language": "python",
   "name": "python3"
  },
  "language_info": {
   "codemirror_mode": {
    "name": "ipython",
    "version": 3
   },
   "file_extension": ".py",
   "mimetype": "text/x-python",
   "name": "python",
   "nbconvert_exporter": "python",
   "pygments_lexer": "ipython3",
   "version": "3.10.9"
  }
 },
 "nbformat": 4,
 "nbformat_minor": 5
}
