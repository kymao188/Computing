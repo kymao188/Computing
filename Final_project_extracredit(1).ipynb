{
 "cells": [
  {
   "cell_type": "code",
   "execution_count": 2,
   "id": "9d4d5eaa",
   "metadata": {},
   "outputs": [],
   "source": [
    "import turtle as t"
   ]
  },
  {
   "cell_type": "code",
   "execution_count": 3,
   "id": "ef65b54b",
   "metadata": {},
   "outputs": [],
   "source": [
    "#no perimeter was needed to be drawn for this flag seeing as it was sectioned into three stripes.\n",
    "\n",
    "t.setup(400,250)\n",
    "\n",
    "t.penup()\n",
    "t.goto(-200, 125)\n",
    "t.pendown()\n",
    "#black stripe was first to be drawn, we coded the turtle to essentially draw the black rectangle and color it in.\n",
    "t.color(\"black\")\n",
    "t.begin_fill()\n",
    "t.fd(400)\n",
    "t.rt(90)\n",
    "t.fd(83.5)\n",
    "t.rt(90)\n",
    "t.fd(400)\n",
    "t.end_fill()\n",
    "#from there we set it up for the next section which was the red stripe.\n",
    "t.lt(90)"
   ]
  },
  {
   "cell_type": "code",
   "execution_count": 4,
   "id": "1c43b01d",
   "metadata": {
    "scrolled": true
   },
   "outputs": [],
   "source": [
    "#red stripe was then coded to do almost the same as the black stripe. Coloring the section in with red.\n",
    "t.color(\"red\")\n",
    "t.begin_fill()\n",
    "t.fd(83.5)\n",
    "t.lt(90)\n",
    "t.fd(400)\n",
    "t.lt(90)\n",
    "t.fd(83.5)\n",
    "t.end_fill()\n",
    "#setting the turtle up for the next section which was the yellow stripe.\n",
    "t.lt(180)\n",
    "t.penup()\n",
    "t.fd(83.5)\n",
    "t.pendown()"
   ]
  },
  {
   "cell_type": "code",
   "execution_count": 5,
   "id": "d4eab8a2",
   "metadata": {},
   "outputs": [],
   "source": [
    "#finally this stripe was coded last to fill in the remaining section with yellow, ending the strip of code.\n",
    "t.color(\"yellow\")\n",
    "t.begin_fill()\n",
    "t.fd(83.5)\n",
    "t.rt(90)\n",
    "t.fd(400)\n",
    "t.rt(90)\n",
    "t.fd(83.5)\n",
    "t.end_fill()"
   ]
  },
  {
   "cell_type": "code",
   "execution_count": 6,
   "id": "b98037ff",
   "metadata": {},
   "outputs": [],
   "source": [
    "t.hideturtle()"
   ]
  },
  {
   "cell_type": "code",
   "execution_count": null,
   "id": "9951054e",
   "metadata": {},
   "outputs": [],
   "source": []
  },
  {
   "cell_type": "code",
   "execution_count": null,
   "id": "8352c3ae",
   "metadata": {},
   "outputs": [],
   "source": []
  },
  {
   "cell_type": "code",
   "execution_count": null,
   "id": "d397d2d7",
   "metadata": {},
   "outputs": [],
   "source": []
  }
 ],
 "metadata": {
  "kernelspec": {
   "display_name": "Python 3 (ipykernel)",
   "language": "python",
   "name": "python3"
  },
  "language_info": {
   "codemirror_mode": {
    "name": "ipython",
    "version": 3
   },
   "file_extension": ".py",
   "mimetype": "text/x-python",
   "name": "python",
   "nbconvert_exporter": "python",
   "pygments_lexer": "ipython3",
   "version": "3.10.9"
  }
 },
 "nbformat": 4,
 "nbformat_minor": 5
}
