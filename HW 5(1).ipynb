{
 "cells": [
  {
   "cell_type": "code",
   "execution_count": 3,
   "id": "1cbb3225",
   "metadata": {},
   "outputs": [
    {
     "name": "stdout",
     "output_type": "stream",
     "text": [
      "Hi, my name is Kayla. I'm 18 years old and identify as female.\n",
      "Hi, my name is Fiona. I'm 69 years old and identify as female.\n"
     ]
    }
   ],
   "source": [
    "#Question 1\n",
    "\n",
    "class Human:\n",
    "    species = 'Homo sapiens'\n",
    "    num_eyes = 2\n",
    "    num_arms = 2\n",
    "    num_legs = 2\n",
    "    language = 'English'\n",
    "\n",
    "    def __init__(self, name, age, gender):\n",
    "        self.name = name\n",
    "        self.age = age\n",
    "        self.gender = gender\n",
    "    \n",
    "    def introduce(self):\n",
    "        print(f\"Hi, my name is {self.name}. I'm {self.age} years old and identify as {self.gender}.\")\n",
    "        \n",
    "A = Human(\"Kayla\", 18, \"female\")\n",
    "B = Human(\"Fiona\", 69, \"female\")\n",
    "\n",
    "A.introduce()\n",
    "B.introduce()"
   ]
  },
  {
   "cell_type": "code",
   "execution_count": 8,
   "id": "fd2325fd",
   "metadata": {},
   "outputs": [
    {
     "name": "stdout",
     "output_type": "stream",
     "text": [
      "6.708203932499369\n"
     ]
    }
   ],
   "source": [
    "#Question 2\n",
    "\n",
    "import math\n",
    "\n",
    "class Point:\n",
    "    def __init__(self):\n",
    "        self.x = 0\n",
    "        self.y = 0\n",
    "    \n",
    "    def distance(self):\n",
    "        return math.sqrt(self.x ** 2 + self.y ** 2)\n",
    "    \n",
    "p = Point()   \n",
    "p.x = 3\n",
    "p.y = 6\n",
    "\n",
    "print(p.distance())"
   ]
  },
  {
   "cell_type": "code",
   "execution_count": 16,
   "id": "d9f7d556",
   "metadata": {},
   "outputs": [
    {
     "name": "stdout",
     "output_type": "stream",
     "text": [
      "hello world\n"
     ]
    }
   ],
   "source": [
    "#Question 4\n",
    "\n",
    "def main():\n",
    "    print(\"hello\", end=\" \")\n",
    "    \n",
    "try:\n",
    "    if __name__ == \"__main__\":\n",
    "        main()\n",
    "        \n",
    "except:\n",
    "    print(\"name\")\n",
    "finally: \n",
    "    print(\"world\")"
   ]
  },
  {
   "cell_type": "code",
   "execution_count": 18,
   "id": "0cedd6f0",
   "metadata": {},
   "outputs": [
    {
     "name": "stdout",
     "output_type": "stream",
     "text": [
      "Sally\n"
     ]
    }
   ],
   "source": [
    "class People():\n",
    "    def __init__(self, name):\n",
    "        self.name = name\n",
    "        \n",
    "    def namePrint(self):\n",
    "        print(self.name)\n",
    "        \n",
    "person1 = People(\"Sally\")\n",
    "person2 = People(\"Louise\")\n",
    "person1.namePrint()\n",
    "\n",
    "#Question 5\n",
    "\n",
    "#C"
   ]
  },
  {
   "cell_type": "code",
   "execution_count": 14,
   "id": "30fb5fc9",
   "metadata": {
    "scrolled": false
   },
   "outputs": [
    {
     "ename": "TypeError",
     "evalue": "Only integers are allowed",
     "output_type": "error",
     "traceback": [
      "\u001b[1;31m---------------------------------------------------------------------------\u001b[0m",
      "\u001b[1;31mTypeError\u001b[0m                                 Traceback (most recent call last)",
      "Cell \u001b[1;32mIn[14], line 3\u001b[0m\n\u001b[0;32m      1\u001b[0m x \u001b[38;5;241m=\u001b[39m \u001b[38;5;124m\"\u001b[39m\u001b[38;5;124mhello\u001b[39m\u001b[38;5;124m\"\u001b[39m\n\u001b[0;32m      2\u001b[0m \u001b[38;5;28;01mif\u001b[39;00m \u001b[38;5;129;01mnot\u001b[39;00m \u001b[38;5;28mtype\u001b[39m(x) \u001b[38;5;129;01mis\u001b[39;00m \u001b[38;5;28mint\u001b[39m:\n\u001b[1;32m----> 3\u001b[0m     \u001b[38;5;28;01mraise\u001b[39;00m \u001b[38;5;167;01mTypeError\u001b[39;00m(\u001b[38;5;124m\"\u001b[39m\u001b[38;5;124mOnly integers are allowed\u001b[39m\u001b[38;5;124m\"\u001b[39m)\n",
      "\u001b[1;31mTypeError\u001b[0m: Only integers are allowed"
     ]
    }
   ],
   "source": [
    "#Question 6\n",
    "\n",
    "x = \"hello\"\n",
    "if not type(x) is int:\n",
    "    raise TypeError(\"Only integers are allowed\")"
   ]
  },
  {
   "cell_type": "code",
   "execution_count": 17,
   "id": "bdd5eaf8",
   "metadata": {},
   "outputs": [
    {
     "ename": "AttributeError",
     "evalue": "'B' object has no attribute 'i'",
     "output_type": "error",
     "traceback": [
      "\u001b[1;31m---------------------------------------------------------------------------\u001b[0m",
      "\u001b[1;31mAttributeError\u001b[0m                            Traceback (most recent call last)",
      "Cell \u001b[1;32mIn[17], line 13\u001b[0m\n\u001b[0;32m     11\u001b[0m     \u001b[38;5;28mprint\u001b[39m(b\u001b[38;5;241m.\u001b[39mi)\n\u001b[0;32m     12\u001b[0m     \u001b[38;5;28mprint\u001b[39m(b\u001b[38;5;241m.\u001b[39mj)\n\u001b[1;32m---> 13\u001b[0m \u001b[43mmain\u001b[49m\u001b[43m(\u001b[49m\u001b[43m)\u001b[49m\n",
      "Cell \u001b[1;32mIn[17], line 11\u001b[0m, in \u001b[0;36mmain\u001b[1;34m()\u001b[0m\n\u001b[0;32m      9\u001b[0m \u001b[38;5;28;01mdef\u001b[39;00m \u001b[38;5;21mmain\u001b[39m():\n\u001b[0;32m     10\u001b[0m     b \u001b[38;5;241m=\u001b[39m B()\n\u001b[1;32m---> 11\u001b[0m     \u001b[38;5;28mprint\u001b[39m(\u001b[43mb\u001b[49m\u001b[38;5;241;43m.\u001b[39;49m\u001b[43mi\u001b[49m)\n\u001b[0;32m     12\u001b[0m     \u001b[38;5;28mprint\u001b[39m(b\u001b[38;5;241m.\u001b[39mj)\n",
      "\u001b[1;31mAttributeError\u001b[0m: 'B' object has no attribute 'i'"
     ]
    }
   ],
   "source": [
    "#Question 3\n",
    "\n",
    "class A:\n",
    "    def __init__(self, i = 0):\n",
    "        self.i = i\n",
    "        \n",
    "class B(A):\n",
    "    def __init__(self, j = 0):\n",
    "        self.j = j\n",
    "        \n",
    "def main():\n",
    "    b = B()\n",
    "    print(b.i)\n",
    "    print(b.j)\n",
    "main()\n",
    "\n",
    "#Question 3 answer is B"
   ]
  },
  {
   "cell_type": "code",
   "execution_count": null,
   "id": "45796f66",
   "metadata": {},
   "outputs": [],
   "source": []
  }
 ],
 "metadata": {
  "kernelspec": {
   "display_name": "Python 3 (ipykernel)",
   "language": "python",
   "name": "python3"
  },
  "language_info": {
   "codemirror_mode": {
    "name": "ipython",
    "version": 3
   },
   "file_extension": ".py",
   "mimetype": "text/x-python",
   "name": "python",
   "nbconvert_exporter": "python",
   "pygments_lexer": "ipython3",
   "version": "3.10.9"
  }
 },
 "nbformat": 4,
 "nbformat_minor": 5
}
