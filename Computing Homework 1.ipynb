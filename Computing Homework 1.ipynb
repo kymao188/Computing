{
 "cells": [
  {
   "cell_type": "code",
   "execution_count": 7,
   "id": "2a1df515",
   "metadata": {},
   "outputs": [
    {
     "name": "stdout",
     "output_type": "stream",
     "text": [
      "[65, 60, 55, 50, 45, 40, 35, 30]\n"
     ]
    }
   ],
   "source": [
    "nums = range (30, 65, 5)\n",
    "reversed_nums = list(reversed(nums))\n",
    "reversed_nums.insert(0,65)\n",
    "print(reversed_nums)"
   ]
  },
  {
   "cell_type": "code",
   "execution_count": 12,
   "id": "030046b7",
   "metadata": {},
   "outputs": [
    {
     "name": "stdout",
     "output_type": "stream",
     "text": [
      "length: 20\n",
      "maximum: 20\n",
      "minimum: 1\n",
      "sum: 210\n"
     ]
    }
   ],
   "source": [
    "nums = []\n",
    "for i in range(21):\n",
    "    nums.append(i)\n",
    "del nums[0]\n",
    "\n",
    "length = len(nums)\n",
    "maximum = max(nums)\n",
    "minimum = min(nums)\n",
    "sum_of_nums = (0+1+2+3+4+5+6+7+8+9+10+11+12+13+14+15+16+17+18+19+20)\n",
    "\n",
    "print(\"length:\", length)\n",
    "print(\"maximum:\", maximum)\n",
    "print(\"minimum:\", minimum)\n",
    "print(\"sum:\", sum_of_nums)"
   ]
  },
  {
   "cell_type": "code",
   "execution_count": 17,
   "id": "ff95e9ed",
   "metadata": {},
   "outputs": [
    {
     "name": "stdout",
     "output_type": "stream",
     "text": [
      "sunny play\n",
      "rainy watch TV\n",
      "cloudy walk\n"
     ]
    }
   ],
   "source": [
    "weather = {\"sunny\": \"play\", \"rainy\": \"watch TV\", \"cloudy\": \"walk\"}\n",
    "\n",
    "for key, value in weather.items():\n",
    "    print(key, value)\n",
    "    "
   ]
  },
  {
   "cell_type": "code",
   "execution_count": 30,
   "id": "012f3ac9",
   "metadata": {},
   "outputs": [
    {
     "name": "stdout",
     "output_type": "stream",
     "text": [
      "sunny play\n",
      "rainy watch TV\n",
      "cloudy walk\n",
      " \n",
      "List with new pair:\n",
      "sunny play\n",
      "rainy watch TV\n",
      "cloudy walk\n",
      "snowy ski\n"
     ]
    }
   ],
   "source": [
    "weather = {\"sunny\": \"play\", \"rainy\": \"watch TV\", \"cloudy\": \"walk\"}\n",
    "\n",
    "for key, value in weather.items():\n",
    "    print(key, value)\n",
    "    \n",
    "weather.update({\"snowy\": \"ski\"})\n",
    "\n",
    "print(\" \")\n",
    "      \n",
    "print(\"List with new pair:\")\n",
    "\n",
    "for key, value in weather.items():\n",
    "    print(f\"{key} {value}\")"
   ]
  },
  {
   "cell_type": "code",
   "execution_count": null,
   "id": "0bc4d940",
   "metadata": {},
   "outputs": [],
   "source": []
  }
 ],
 "metadata": {
  "kernelspec": {
   "display_name": "Python 3 (ipykernel)",
   "language": "python",
   "name": "python3"
  },
  "language_info": {
   "codemirror_mode": {
    "name": "ipython",
    "version": 3
   },
   "file_extension": ".py",
   "mimetype": "text/x-python",
   "name": "python",
   "nbconvert_exporter": "python",
   "pygments_lexer": "ipython3",
   "version": "3.9.13"
  }
 },
 "nbformat": 4,
 "nbformat_minor": 5
}
